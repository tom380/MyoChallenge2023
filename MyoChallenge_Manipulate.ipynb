{
 "cells": [
  {
   "cell_type": "code",
   "execution_count": null,
   "metadata": {},
   "outputs": [],
   "source": [
    "from myosuite.utils import gym\n",
    "import numpy as np"
   ]
  },
  {
   "cell_type": "code",
   "execution_count": null,
   "metadata": {
    "scrolled": true
   },
   "outputs": [],
   "source": [
    "from myosuite.envs.myo.myochallenge.relocate_v0 import RelocateEnvV0\n",
    "\n",
    "class myEnv(RelocateEnvV0):\n",
    "    def get_reward_dict(self, obs_dict):\n",
    "        reach_dist = np.abs(np.linalg.norm(self.obs_dict['reach_err'], axis=-1))\n",
    "        obj_pos_z =  self.obs_dict['obj_pos'][:,:,2] - np.array(0.9283)\n",
    "        pos_dist = np.abs(np.linalg.norm(self.obs_dict['pos_err'], axis=-1))\n",
    "        rot_dist = np.abs(np.linalg.norm(self.obs_dict['rot_err'], axis=-1))\n",
    "        act_mag = np.linalg.norm(self.obs_dict['act'], axis=-1)/self.sim.model.na if self.sim.model.na !=0 else 0\n",
    "\n",
    "        rwd_dict = super().get_reward_dict(obs_dict)\n",
    "\n",
    "        rwd_dict['done'] = np.greater(obs_dict['time'], 8)\n",
    "\n",
    "        rwd_dict['dense'] = -5*reach_dist - 1*act_mag + 4*obj_pos_z\n",
    "\n",
    "        return rwd_dict\n",
    "\n",
    "\n",
    "env = myEnv(model_path=\"C:/Users/Tom/miniconda3/envs/myosuite/Lib/site-packages/myosuite/envs/myo/assets/arm/myoarm_relocate.xml\",\n",
    "            target_xyz_range = {'high':[0.2, -.1, 0.9], 'low':[0.0, -.35, 0.9]},\n",
    "            target_rxryrz_range = {'high':[0.0, 0.0, 0.0], 'low':[0.0, 0.0, 0.0]})\n",
    "\n",
    "\n",
    "env.reset();\n"
   ]
  },
  {
   "cell_type": "code",
   "execution_count": null,
   "metadata": {},
   "outputs": [],
   "source": [
    "from stable_baselines3 import PPO\n",
    "\n",
    "model = PPO(\"MlpPolicy\", env, verbose=1)"
   ]
  },
  {
   "cell_type": "code",
   "execution_count": null,
   "metadata": {},
   "outputs": [],
   "source": [
    "model = PPO.load(\"TrainedModels/Manipulate_model_new2\", env=env, device='cpu')\n"
   ]
  },
  {
   "cell_type": "code",
   "execution_count": null,
   "metadata": {
    "scrolled": true
   },
   "outputs": [],
   "source": [
    "print(\"========================================\")\n",
    "print(\"Starting policy learning\")\n",
    "print(\"========================================\")\n",
    "\n",
    "env.reset();\n",
    "env.mj_render()\n",
    "model.learn(total_timesteps=400000)\n",
    "\n",
    "print(\"========================================\")\n",
    "print(\"Job Finished.\") \n",
    "print(\"========================================\")\n",
    "\n",
    "model.save('TrainedModels/Manipulate_model_new3')\n"
   ]
  },
  {
   "cell_type": "code",
   "execution_count": null,
   "metadata": {},
   "outputs": [],
   "source": [
    "from time import sleep\n",
    "\n",
    "env.reset()\n",
    "\n",
    "for _ in range(10):\n",
    "    for _ in range(300):\n",
    "        env.mj_render()\n",
    "        obs = env.get_obs()\n",
    "        action = model.predict(obs)[0]\n",
    "        env.step(action)\n",
    "        sleep(0.01)\n",
    "    \n",
    "    env.reset()\n",
    "\n",
    "env.close()\n"
   ]
  }
 ],
 "metadata": {
  "kernelspec": {
   "display_name": "myosuite",
   "language": "python",
   "name": "python3"
  },
  "language_info": {
   "codemirror_mode": {
    "name": "ipython",
    "version": 3
   },
   "file_extension": ".py",
   "mimetype": "text/x-python",
   "name": "python",
   "nbconvert_exporter": "python",
   "pygments_lexer": "ipython3",
   "version": "3.8.20"
  }
 },
 "nbformat": 4,
 "nbformat_minor": 4
}
